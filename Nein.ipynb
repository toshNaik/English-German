{
  "nbformat": 4,
  "nbformat_minor": 0,
  "metadata": {
    "colab": {
      "name": "Nein",
      "provenance": [],
      "collapsed_sections": [],
      "authorship_tag": "ABX9TyNjix3LDvG/6EU3VWf1KOuz",
      "include_colab_link": true
    },
    "kernelspec": {
      "name": "python3",
      "display_name": "Python 3"
    },
    "accelerator": "GPU"
  },
  "cells": [
    {
      "cell_type": "markdown",
      "metadata": {
        "id": "view-in-github",
        "colab_type": "text"
      },
      "source": [
        "<a href=\"https://colab.research.google.com/github/toshNaik/English-German/blob/master/Nein.ipynb\" target=\"_parent\"><img src=\"https://colab.research.google.com/assets/colab-badge.svg\" alt=\"Open In Colab\"/></a>"
      ]
    },
    {
      "cell_type": "code",
      "metadata": {
        "id": "Q2t9SV86bLPD",
        "colab_type": "code",
        "colab": {
          "base_uri": "https://localhost:8080/",
          "height": 131
        },
        "outputId": "38918c84-26da-4249-f6a9-a250e82581b0"
      },
      "source": [
        "from google.colab import drive\n",
        "drive.mount('/content/drive')"
      ],
      "execution_count": 1,
      "outputs": [
        {
          "output_type": "stream",
          "text": [
            "Go to this URL in a browser: https://accounts.google.com/o/oauth2/auth?client_id=947318989803-6bn6qk8qdgf4n4g3pfee6491hc0brc4i.apps.googleusercontent.com&redirect_uri=urn%3aietf%3awg%3aoauth%3a2.0%3aoob&response_type=code&scope=email%20https%3a%2f%2fwww.googleapis.com%2fauth%2fdocs.test%20https%3a%2f%2fwww.googleapis.com%2fauth%2fdrive%20https%3a%2f%2fwww.googleapis.com%2fauth%2fdrive.photos.readonly%20https%3a%2f%2fwww.googleapis.com%2fauth%2fpeopleapi.readonly\n",
            "\n",
            "Enter your authorization code:\n",
            "··········\n",
            "Mounted at /content/drive\n"
          ],
          "name": "stdout"
        }
      ]
    },
    {
      "cell_type": "code",
      "metadata": {
        "id": "cxiR-pAIf1-k",
        "colab_type": "code",
        "colab": {
          "base_uri": "https://localhost:8080/",
          "height": 73
        },
        "outputId": "ef22fe55-7982-48e2-a906-d61b3481be2f"
      },
      "source": [
        "!unzip drive/My\\ Drive/english-german/deu-eng.zip"
      ],
      "execution_count": 2,
      "outputs": [
        {
          "output_type": "stream",
          "text": [
            "Archive:  drive/My Drive/english-german/deu-eng.zip\n",
            "  inflating: deu.txt                 \n",
            "  inflating: _about.txt              \n"
          ],
          "name": "stdout"
        }
      ]
    },
    {
      "cell_type": "code",
      "metadata": {
        "id": "7MVSCEn4g2dK",
        "colab_type": "code",
        "colab": {}
      },
      "source": [
        "import pandas as pd\n",
        "import numpy as np"
      ],
      "execution_count": 3,
      "outputs": []
    },
    {
      "cell_type": "code",
      "metadata": {
        "id": "D3tDR2vP_CMV",
        "colab_type": "code",
        "colab": {}
      },
      "source": [
        "file1 = open('deu.txt', 'r')\n",
        "dataset = []\n",
        "for line in file1.readlines():\n",
        "  dataset.append(line)\n",
        "file1.close()"
      ],
      "execution_count": 4,
      "outputs": []
    },
    {
      "cell_type": "code",
      "metadata": {
        "id": "tR18uJlRC2xs",
        "colab_type": "code",
        "colab": {}
      },
      "source": [
        "import re"
      ],
      "execution_count": 5,
      "outputs": []
    },
    {
      "cell_type": "code",
      "metadata": {
        "id": "h7W5DddJC39x",
        "colab_type": "code",
        "colab": {
          "base_uri": "https://localhost:8080/",
          "height": 54
        },
        "outputId": "c7fc73e5-f694-4c8b-8c16-614ff4eed690"
      },
      "source": [
        "eng, deu, _ = re.split('\\t', dataset[0])\n",
        "print(eng)\n",
        "print(deu)"
      ],
      "execution_count": 6,
      "outputs": [
        {
          "output_type": "stream",
          "text": [
            "Go.\n",
            "Geh.\n"
          ],
          "name": "stdout"
        }
      ]
    },
    {
      "cell_type": "code",
      "metadata": {
        "id": "1FxG7bCpNBs0",
        "colab_type": "code",
        "colab": {}
      },
      "source": [
        "eng = []\n",
        "deu = []\n",
        "for line in dataset:\n",
        "  english, deutsche, _ = re.split('\\t', line)\n",
        "  english = re.sub(r'[^\\w\\s]', '', english)   #remove punctuation\n",
        "  deutsche = re.sub(r'[^\\w\\s]', '', deutsche)\n",
        "  english = re.sub(r'\\d', '', english)        #remove digits\n",
        "  deutsche = re.sub(r'\\d', '', deutsche)\n",
        "  eng.append(english.lower())\n",
        "  deu.append(deutsche.lower()+' <EOS>')"
      ],
      "execution_count": 7,
      "outputs": []
    },
    {
      "cell_type": "code",
      "metadata": {
        "id": "sMiCRDXSOwS3",
        "colab_type": "code",
        "colab": {
          "base_uri": "https://localhost:8080/",
          "height": 54
        },
        "outputId": "6d0f6356-7d06-4b65-af4d-74e5f2a54187"
      },
      "source": [
        "print(eng[125])\n",
        "print(deu[125])"
      ],
      "execution_count": 8,
      "outputs": [
        {
          "output_type": "stream",
          "text": [
            "come on\n",
            "komm <EOS>\n"
          ],
          "name": "stdout"
        }
      ]
    },
    {
      "cell_type": "code",
      "metadata": {
        "id": "o8vqI0EqO0LK",
        "colab_type": "code",
        "colab": {}
      },
      "source": [
        "eng_data = pd.Series(eng)\n",
        "deu_data = pd.Series(deu)\n",
        "deu_input_data = deu_data.copy().apply(lambda x: '<BOS>' + x)"
      ],
      "execution_count": 9,
      "outputs": []
    },
    {
      "cell_type": "code",
      "metadata": {
        "id": "bH4Eu6AJTJp6",
        "colab_type": "code",
        "colab": {
          "base_uri": "https://localhost:8080/",
          "height": 129
        },
        "outputId": "60e5f668-d011-47fa-9e83-e325e11ad8d6"
      },
      "source": [
        "eng_data.tail(5)"
      ],
      "execution_count": 71,
      "outputs": [
        {
          "output_type": "execute_result",
          "data": {
            "text/plain": [
              "217027    even if some sentences by nonnative speakers a...\n",
              "217028    if someone who doesnt know your background say...\n",
              "217029    if someone who doesnt know your background say...\n",
              "217030    if someone who doesnt know your background say...\n",
              "217031    doubtless there exists in this world precisely...\n",
              "dtype: object"
            ]
          },
          "metadata": {
            "tags": []
          },
          "execution_count": 71
        }
      ]
    },
    {
      "cell_type": "code",
      "metadata": {
        "id": "E3mDMt1yTLYg",
        "colab_type": "code",
        "colab": {
          "base_uri": "https://localhost:8080/",
          "height": 241
        },
        "outputId": "55e582c3-455d-4ff0-9bfb-4391c9093729"
      },
      "source": [
        "deu_data.head(-10)"
      ],
      "execution_count": 11,
      "outputs": [
        {
          "output_type": "execute_result",
          "data": {
            "text/plain": [
              "0                                                 geh <EOS>\n",
              "1                                               hallo <EOS>\n",
              "2                                           grüß gott <EOS>\n",
              "3                                                lauf <EOS>\n",
              "4                                                lauf <EOS>\n",
              "                                ...                        \n",
              "217017    tom fiel vor den augen aller im restaurant auf...\n",
              "217018    tom warf mitten in der nacht steine an marias ...\n",
              "217019    elektronische zigaretten werden als gesunde al...\n",
              "217020    tom sagte du kannst deiner freundin den letzte...\n",
              "217021    ich empfehle muttersprachliche sätze beizutrag...\n",
              "Length: 217022, dtype: object"
            ]
          },
          "metadata": {
            "tags": []
          },
          "execution_count": 11
        }
      ]
    },
    {
      "cell_type": "code",
      "metadata": {
        "id": "YoIgbTdNcxp_",
        "colab_type": "code",
        "colab": {
          "base_uri": "https://localhost:8080/",
          "height": 223
        },
        "outputId": "f744177a-bd65-4fff-f318-5eb23cd3101a"
      },
      "source": [
        "deu_input_data.head(10)"
      ],
      "execution_count": 12,
      "outputs": [
        {
          "output_type": "execute_result",
          "data": {
            "text/plain": [
              "0             <BOS>geh <EOS>\n",
              "1           <BOS>hallo <EOS>\n",
              "2       <BOS>grüß gott <EOS>\n",
              "3            <BOS>lauf <EOS>\n",
              "4            <BOS>lauf <EOS>\n",
              "5      <BOS>potzdonner <EOS>\n",
              "6    <BOS>donnerwetter <EOS>\n",
              "7           <BOS>feuer <EOS>\n",
              "8           <BOS>hilfe <EOS>\n",
              "9         <BOS>zu hülf <EOS>\n",
              "dtype: object"
            ]
          },
          "metadata": {
            "tags": []
          },
          "execution_count": 12
        }
      ]
    },
    {
      "cell_type": "code",
      "metadata": {
        "id": "_kcww0PgTQfL",
        "colab_type": "code",
        "colab": {}
      },
      "source": [
        "from tensorflow.keras.preprocessing.text import Tokenizer\n",
        "from tensorflow.keras.preprocessing.sequence import pad_sequences\n",
        "\n",
        "def tokenize(data):\n",
        "  tokenizer = Tokenizer()\n",
        "  tokenizer.fit_on_texts(data)\n",
        "  return tokenizer"
      ],
      "execution_count": 13,
      "outputs": []
    },
    {
      "cell_type": "code",
      "metadata": {
        "id": "ovSEP32OeBDS",
        "colab_type": "code",
        "colab": {
          "base_uri": "https://localhost:8080/",
          "height": 54
        },
        "outputId": "b7f6ca4d-5260-49eb-e635-fa72f52e3a51"
      },
      "source": [
        "english_tokenizer = tokenize(eng_data.values)\n",
        "english_vocab_size = len(english_tokenizer.word_index) + 1\n",
        "print(f'English vocab size {english_vocab_size}')\n",
        "\n",
        "german_tokenizer = tokenize(deu_input_data.values)\n",
        "german_vocab_size = len(german_tokenizer.word_index) + 1\n",
        "print(f'German vocab size {german_vocab_size}')"
      ],
      "execution_count": 14,
      "outputs": [
        {
          "output_type": "stream",
          "text": [
            "English vocab size 16187\n",
            "German vocab size 34990\n"
          ],
          "name": "stdout"
        }
      ]
    },
    {
      "cell_type": "code",
      "metadata": {
        "id": "n0IO4b1SfQAj",
        "colab_type": "code",
        "colab": {}
      },
      "source": [
        "eng_tokens = english_tokenizer.texts_to_sequences(eng_data.values)\n",
        "deu_tokens_output = german_tokenizer.texts_to_sequences(deu_data.values)\n",
        "deu_tokens_input = german_tokenizer.texts_to_sequences(deu_input_data.values)"
      ],
      "execution_count": 15,
      "outputs": []
    },
    {
      "cell_type": "code",
      "metadata": {
        "id": "bN3R-SHkfXLL",
        "colab_type": "code",
        "colab": {
          "base_uri": "https://localhost:8080/",
          "height": 73
        },
        "outputId": "c5c662bb-46c4-449c-a9f9-180dc40d3840"
      },
      "source": [
        "english_padded = pad_sequences(eng_tokens, padding='post')\n",
        "print(f'English padded: {english_padded.shape}')\n",
        "german_padded_input = pad_sequences(deu_tokens_input, padding='post')\n",
        "print(f'German input padded: {german_padded_input.shape}')\n",
        "german_padded_output = pad_sequences(deu_tokens_output, padding='post', maxlen = german_padded_input.shape[1])\n",
        "print(f'German output padded: {german_padded_output.shape}')"
      ],
      "execution_count": 16,
      "outputs": [
        {
          "output_type": "stream",
          "text": [
            "English padded: (217032, 101)\n",
            "German input padded: (217032, 77)\n",
            "German output padded: (217032, 77)\n"
          ],
          "name": "stdout"
        }
      ]
    },
    {
      "cell_type": "code",
      "metadata": {
        "id": "mMj1XWJzIjGt",
        "colab_type": "code",
        "colab": {
          "base_uri": "https://localhost:8080/",
          "height": 148
        },
        "outputId": "7b3b0558-493a-4e1e-e3ee-ce9504e3c570"
      },
      "source": [
        "german_padded_input"
      ],
      "execution_count": 19,
      "outputs": [
        {
          "output_type": "execute_result",
          "data": {
            "text/plain": [
              "array([[   1,  609,    2, ...,    0,    0,    0],\n",
              "       [   1, 1671,    2, ...,    0,    0,    0],\n",
              "       [   1, 4399, 1531, ...,    0,    0,    0],\n",
              "       ...,\n",
              "       [   1,   60,  249, ...,    0,    0,    0],\n",
              "       [   1,   60,  249, ...,    0,    0,    0],\n",
              "       [   1,  203, 1449, ..., 1846,    6,    2]], dtype=int32)"
            ]
          },
          "metadata": {
            "tags": []
          },
          "execution_count": 19
        }
      ]
    },
    {
      "cell_type": "code",
      "metadata": {
        "id": "N2VyFfCPBkg_",
        "colab_type": "code",
        "colab": {
          "base_uri": "https://localhost:8080/",
          "height": 148
        },
        "outputId": "70afbdde-94f4-49a0-e430-2d45ac1218a5"
      },
      "source": [
        "german_padded_output"
      ],
      "execution_count": 21,
      "outputs": [
        {
          "output_type": "execute_result",
          "data": {
            "text/plain": [
              "array([[  609,     2,     0, ...,     0,     0,     0],\n",
              "       [ 1671,     2,     0, ...,     0,     0,     0],\n",
              "       [ 4399,  1531,     2, ...,     0,     0,     0],\n",
              "       ...,\n",
              "       [   60,   249, 11659, ...,     0,     0,     0],\n",
              "       [   60,   249,    14, ...,     0,     0,     0],\n",
              "       [  203,  1449,   895, ...,     6,     2,     0]], dtype=int32)"
            ]
          },
          "metadata": {
            "tags": []
          },
          "execution_count": 21
        }
      ]
    },
    {
      "cell_type": "code",
      "metadata": {
        "id": "aazxlchxBytx",
        "colab_type": "code",
        "colab": {
          "base_uri": "https://localhost:8080/",
          "height": 933
        },
        "outputId": "346af21a-2e6f-4d40-e82e-592f8d1da276"
      },
      "source": [
        "german_padded_output = german_padded_output.reshape(german_padded_output.shape[0], german_padded_output.shape[1], 1)\n",
        "print(german_padded_output)"
      ],
      "execution_count": 22,
      "outputs": [
        {
          "output_type": "stream",
          "text": [
            "[[[  609]\n",
            "  [    2]\n",
            "  [    0]\n",
            "  ...\n",
            "  [    0]\n",
            "  [    0]\n",
            "  [    0]]\n",
            "\n",
            " [[ 1671]\n",
            "  [    2]\n",
            "  [    0]\n",
            "  ...\n",
            "  [    0]\n",
            "  [    0]\n",
            "  [    0]]\n",
            "\n",
            " [[ 4399]\n",
            "  [ 1531]\n",
            "  [    2]\n",
            "  ...\n",
            "  [    0]\n",
            "  [    0]\n",
            "  [    0]]\n",
            "\n",
            " ...\n",
            "\n",
            " [[   60]\n",
            "  [  249]\n",
            "  [11659]\n",
            "  ...\n",
            "  [    0]\n",
            "  [    0]\n",
            "  [    0]]\n",
            "\n",
            " [[   60]\n",
            "  [  249]\n",
            "  [   14]\n",
            "  ...\n",
            "  [    0]\n",
            "  [    0]\n",
            "  [    0]]\n",
            "\n",
            " [[  203]\n",
            "  [ 1449]\n",
            "  [  895]\n",
            "  ...\n",
            "  [    6]\n",
            "  [    2]\n",
            "  [    0]]]\n"
          ],
          "name": "stdout"
        }
      ]
    },
    {
      "cell_type": "code",
      "metadata": {
        "id": "A02etGMic6ab",
        "colab_type": "code",
        "colab": {}
      },
      "source": [
        "from sklearn.model_selection import train_test_split\n",
        "X_train, X_test, y_train, y_test = train_test_split(np.concatenate((english_padded, german_padded_input), axis =1), german_padded_output, test_size = 7000, shuffle=True, random_state=23)"
      ],
      "execution_count": 24,
      "outputs": []
    },
    {
      "cell_type": "code",
      "metadata": {
        "id": "G0uPFErhi8eA",
        "colab_type": "code",
        "colab": {
          "base_uri": "https://localhost:8080/",
          "height": 36
        },
        "outputId": "1674dc3e-2d21-468d-a63d-cb4c19317c9b"
      },
      "source": [
        "X_test.shape"
      ],
      "execution_count": 25,
      "outputs": [
        {
          "output_type": "execute_result",
          "data": {
            "text/plain": [
              "(7000, 178)"
            ]
          },
          "metadata": {
            "tags": []
          },
          "execution_count": 25
        }
      ]
    },
    {
      "cell_type": "code",
      "metadata": {
        "id": "V3wxbVAypaEq",
        "colab_type": "code",
        "colab": {
          "base_uri": "https://localhost:8080/",
          "height": 73
        },
        "outputId": "60a8ccf4-aefd-462b-c1ce-bd2f5ea34015"
      },
      "source": [
        "english_inputs = X_train[:, :101]\n",
        "print(english_inputs.shape)\n",
        "german_inputs = X_train[:, 101:]\n",
        "print(german_inputs.shape)\n",
        "print(y_train.shape)"
      ],
      "execution_count": 26,
      "outputs": [
        {
          "output_type": "stream",
          "text": [
            "(210032, 101)\n",
            "(210032, 77)\n",
            "(210032, 77, 1)\n"
          ],
          "name": "stdout"
        }
      ]
    },
    {
      "cell_type": "code",
      "metadata": {
        "id": "_b3nfNpK017t",
        "colab_type": "code",
        "colab": {}
      },
      "source": [
        "y_train = y_train.reshape(y_train.shape[0], y_train.shape[1], 1)"
      ],
      "execution_count": 27,
      "outputs": []
    },
    {
      "cell_type": "code",
      "metadata": {
        "id": "N7tgFVMD1IdP",
        "colab_type": "code",
        "colab": {
          "base_uri": "https://localhost:8080/",
          "height": 36
        },
        "outputId": "16197a67-2ea9-4786-90b1-a62465a31521"
      },
      "source": [
        "y_train.shape"
      ],
      "execution_count": 28,
      "outputs": [
        {
          "output_type": "execute_result",
          "data": {
            "text/plain": [
              "(210032, 77, 1)"
            ]
          },
          "metadata": {
            "tags": []
          },
          "execution_count": 28
        }
      ]
    },
    {
      "cell_type": "code",
      "metadata": {
        "id": "vx2MM0eLDBfv",
        "colab_type": "code",
        "colab": {
          "base_uri": "https://localhost:8080/",
          "height": 73
        },
        "outputId": "b161475c-fa26-4cbb-a0dc-750da900c747"
      },
      "source": [
        "english_inputs_val = X_test[:, :101]\n",
        "print(english_inputs_val.shape)\n",
        "german_inputs_val = X_test[:, 101:]\n",
        "print(german_inputs_val.shape)\n",
        "print(y_test.shape)"
      ],
      "execution_count": 29,
      "outputs": [
        {
          "output_type": "stream",
          "text": [
            "(7000, 101)\n",
            "(7000, 77)\n",
            "(7000, 77, 1)\n"
          ],
          "name": "stdout"
        }
      ]
    },
    {
      "cell_type": "code",
      "metadata": {
        "id": "4cAGG_SW1XIV",
        "colab_type": "code",
        "colab": {}
      },
      "source": [
        "y_test = y_test.reshape(y_test.shape[0], y_test.shape[1], 1)"
      ],
      "execution_count": 30,
      "outputs": []
    },
    {
      "cell_type": "code",
      "metadata": {
        "id": "MMaY9J9HCX0t",
        "colab_type": "code",
        "colab": {
          "base_uri": "https://localhost:8080/",
          "height": 933
        },
        "outputId": "c1302dc2-c0a1-490f-d6f8-f692d8efc229"
      },
      "source": [
        "print(y_train)"
      ],
      "execution_count": 33,
      "outputs": [
        {
          "output_type": "stream",
          "text": [
            "[[[   4]\n",
            "  [1131]\n",
            "  [ 119]\n",
            "  ...\n",
            "  [   0]\n",
            "  [   0]\n",
            "  [   0]]\n",
            "\n",
            " [[   3]\n",
            "  [  40]\n",
            "  [  57]\n",
            "  ...\n",
            "  [   0]\n",
            "  [   0]\n",
            "  [   0]]\n",
            "\n",
            " [[   9]\n",
            "  [5606]\n",
            "  [  47]\n",
            "  ...\n",
            "  [   0]\n",
            "  [   0]\n",
            "  [   0]]\n",
            "\n",
            " ...\n",
            "\n",
            " [[   8]\n",
            "  [ 460]\n",
            "  [  11]\n",
            "  ...\n",
            "  [   0]\n",
            "  [   0]\n",
            "  [   0]]\n",
            "\n",
            " [[   7]\n",
            "  [  37]\n",
            "  [ 332]\n",
            "  ...\n",
            "  [   0]\n",
            "  [   0]\n",
            "  [   0]]\n",
            "\n",
            " [[ 768]\n",
            "  [ 220]\n",
            "  [ 184]\n",
            "  ...\n",
            "  [   0]\n",
            "  [   0]\n",
            "  [   0]]]\n"
          ],
          "name": "stdout"
        }
      ]
    },
    {
      "cell_type": "code",
      "metadata": {
        "id": "3uccRESTmjgf",
        "colab_type": "code",
        "colab": {}
      },
      "source": [
        "from tensorflow.keras.layers import Dense, Dropout, Flatten, LSTM, Input, Embedding, TimeDistributed\n",
        "from tensorflow.keras.models import Model\n",
        "\n",
        "enc_input = Input(shape=(None,))\n",
        "enc_emb = Embedding(english_vocab_size, 64)(enc_input)\n",
        "enc_lstm_layer = LSTM(64, return_state = True, name='encoder')\n",
        "_, state_h, state_c = enc_lstm_layer(enc_emb)\n",
        "enc_state = [state_h, state_c]\n",
        "\n",
        "dec_input = Input(shape=(None,))\n",
        "dec_emb_layer = Embedding(german_vocab_size, 64)\n",
        "dec_emb = dec_emb_layer(dec_input)\n",
        "dec_lstm_layer = LSTM(64, return_sequences=True, return_state = True, name='decoder')\n",
        "dec_out, _, _ = dec_lstm_layer(dec_emb, initial_state = enc_state)\n",
        "dec_softmax = TimeDistributed(Dense(german_vocab_size, activation='softmax'))\n",
        "dec_out = dec_softmax(dec_out)\n",
        "model = Model([enc_input, dec_input], dec_out)"
      ],
      "execution_count": 34,
      "outputs": []
    },
    {
      "cell_type": "code",
      "metadata": {
        "id": "uTgrcgGcbWXn",
        "colab_type": "code",
        "colab": {
          "base_uri": "https://localhost:8080/",
          "height": 533
        },
        "outputId": "3578ec0f-5cb4-4bcd-bdfd-6d0ece3f5bcf"
      },
      "source": [
        "from tensorflow.keras.utils import plot_model\n",
        "plot_model(model, 'model.png', show_shapes=True)"
      ],
      "execution_count": 35,
      "outputs": [
        {
          "output_type": "execute_result",
          "data": {
            "image/png": "[encoded data removed]",
            "text/plain": [
              "<IPython.core.display.Image object>"
            ]
          },
          "metadata": {
            "tags": []
          },
          "execution_count": 35
        }
      ]
    },
    {
      "cell_type": "code",
      "metadata": {
        "id": "xlF3SZOea6XE",
        "colab_type": "code",
        "colab": {}
      },
      "source": [
        "from tensorflow.keras import metrics\n",
        "model.compile(optimizer='adam', loss='sparse_categorical_crossentropy', metrics=[metrics.sparse_categorical_accuracy])"
      ],
      "execution_count": 36,
      "outputs": []
    },
    {
      "cell_type": "code",
      "metadata": {
        "id": "mi3OVimiCQeu",
        "colab_type": "code",
        "colab": {
          "base_uri": "https://localhost:8080/",
          "height": 74
        },
        "outputId": "e82ad501-0423-4636-b446-59fca281c41b"
      },
      "source": [
        "from tensorflow.keras.callbacks import ModelCheckpoint\n",
        "model.fit(x = [english_inputs, german_inputs], y = y_train,\n",
        "          batch_size=128, epochs=1,\n",
        "          validation_data=([english_inputs_val, german_inputs_val], y_test),\n",
        "          callbacks = [ModelCheckpoint('model.h5', monitor='val_loss', mode='min', save_best_only=True)])"
      ],
      "execution_count": 38,
      "outputs": [
        {
          "output_type": "stream",
          "text": [
            "1641/1641 [==============================] - 1215s 740ms/step - loss: 0.8686 - sparse_categorical_accuracy: 0.9158 - val_loss: 0.5258 - val_sparse_categorical_accuracy: 0.9235\n"
          ],
          "name": "stdout"
        },
        {
          "output_type": "execute_result",
          "data": {
            "text/plain": [
              "<tensorflow.python.keras.callbacks.History at 0x7f18335a31d0>"
            ]
          },
          "metadata": {
            "tags": []
          },
          "execution_count": 38
        }
      ]
    },
    {
      "cell_type": "code",
      "metadata": {
        "id": "Z9mnUgGmEbPA",
        "colab_type": "code",
        "colab": {}
      },
      "source": [
        "# Encoder inference model\n",
        "enc_model = Model(enc_input, enc_state)\n",
        "\n",
        "# Decoder inference model\n",
        "state_h_in = Input(shape = (64,))\n",
        "state_c_in = Input(shape = (64,))\n",
        "dec_state_in = [state_h_in, state_c_in]\n",
        "dec_emb_pred = dec_emb_layer(dec_input)\n",
        "dec_out_pred, state_h_out, state_c_out = dec_lstm_layer(dec_emb_pred, initial_state = dec_state_in)\n",
        "\n",
        "dec_out_pred = dec_softmax(dec_out_pred)\n",
        "dec_model = Model([dec_input] + dec_state_in, [dec_out_pred, state_h_out, state_c_out])"
      ],
      "execution_count": 39,
      "outputs": []
    },
    {
      "cell_type": "code",
      "metadata": {
        "id": "7ZlJGivUgDZg",
        "colab_type": "code",
        "colab": {
          "base_uri": "https://localhost:8080/",
          "height": 312
        },
        "outputId": "7f4d8e9a-1ef1-4b65-932b-f2301a5b2b7f"
      },
      "source": [
        "plot_model(enc_model, 'encoding_inference.png', show_shapes=True)"
      ],
      "execution_count": 40,
      "outputs": [
        {
          "output_type": "execute_result",
          "data": {
            "image/png": "[encoded data removed]",
            "text/plain": [
              "<IPython.core.display.Image object>"
            ]
          },
          "metadata": {
            "tags": []
          },
          "execution_count": 40
        }
      ]
    },
    {
      "cell_type": "code",
      "metadata": {
        "id": "aoVpm3u3gVhW",
        "colab_type": "code",
        "colab": {
          "base_uri": "https://localhost:8080/",
          "height": 422
        },
        "outputId": "1963d62d-f191-4151-9499-cb86409ac6ad"
      },
      "source": [
        "plot_model(dec_model, 'decoding_inference.png', show_shapes=True)"
      ],
      "execution_count": 41,
      "outputs": [
        {
          "output_type": "execute_result",
          "data": {
            "image/png": "[encoded data removed]",
            "text/plain": [
              "<IPython.core.display.Image object>"
            ]
          },
          "metadata": {
            "tags": []
          },
          "execution_count": 41
        }
      ]
    },
    {
      "cell_type": "code",
      "metadata": {
        "id": "c_V2ftMUgdXW",
        "colab_type": "code",
        "colab": {}
      },
      "source": [
        "def predict_german(sentence):\n",
        "  eng_pred = pad_sequences(english_tokenizer.texts_to_sequences([sentence]), maxlen=101, padding='post')\n",
        "  dec_init = enc_model.predict(eng_pred)\n",
        "  dec_word = np.array([[1]]) # token for <BOS>\n",
        "\n",
        "  stop = False\n",
        "  deu_sentence = ''\n",
        "  while not stop:\n",
        "    output = dec_model.predict([dec_word] + dec_init)\n",
        "    output_seq = output[0]\n",
        "    new_states = output[1:]\n",
        "    \n",
        "    new_id = np.argmax(output_seq[0, -1, :])\n",
        "    print(new_id)\n",
        "    new_word = german_tokenizer.index_word[new_id]\n",
        "\n",
        "    if (new_word == 'eos' or len(deu_sentence.split()) == 77):\n",
        "      stop = True\n",
        "    else:\n",
        "      deu_sentence += new_word + ' '\n",
        "\n",
        "    dec_word = np.array([[new_id]])\n",
        "    dec_init = new_states\n",
        "  return deu_sentence"
      ],
      "execution_count": 72,
      "outputs": []
    },
    {
      "cell_type": "code",
      "metadata": {
        "id": "bmLW13pEtCse",
        "colab_type": "code",
        "colab": {
          "base_uri": "https://localhost:8080/",
          "height": 223
        },
        "outputId": "3bd16686-248f-4732-c19d-863cb72c5944"
      },
      "source": [
        "predict_german('What are you'.lower())"
      ],
      "execution_count": 73,
      "outputs": [
        {
          "output_type": "stream",
          "text": [
            "[[21 23  3  0  0  0  0  0  0  0  0  0  0  0  0  0  0  0  0  0  0  0  0  0\n",
            "   0  0  0  0  0  0  0  0  0  0  0  0  0  0  0  0  0  0  0  0  0  0  0  0\n",
            "   0  0  0  0  0  0  0  0  0  0  0  0  0  0  0  0  0  0  0  0  0  0  0  0\n",
            "   0  0  0  0  0  0  0  0  0  0  0  0  0  0  0  0  0  0  0  0  0  0  0  0\n",
            "   0  0  0  0  0]]\n",
            "3\n",
            "20\n",
            "7\n",
            "5\n",
            "2\n"
          ],
          "name": "stdout"
        },
        {
          "output_type": "execute_result",
          "data": {
            "application/vnd.google.colaboratory.intrinsic": {
              "type": "string"
            },
            "text/plain": [
              "'ich habe das nicht '"
            ]
          },
          "metadata": {
            "tags": []
          },
          "execution_count": 73
        }
      ]
    },
    {
      "cell_type": "code",
      "metadata": {
        "id": "YUXAYhwktF_N",
        "colab_type": "code",
        "colab": {
          "base_uri": "https://localhost:8080/",
          "height": 36
        },
        "outputId": "1ebd69de-d9df-4024-c141-05e50a014c2e"
      },
      "source": [
        "german_tokenizer.index_word"
      ],
      "execution_count": null,
      "outputs": [
        {
          "output_type": "execute_result",
          "data": {
            "text/plain": [
              "34989"
            ]
          },
          "metadata": {
            "tags": []
          },
          "execution_count": 41
        }
      ]
    }
  ]
}