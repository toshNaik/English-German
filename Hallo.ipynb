{
  "nbformat": 4,
  "nbformat_minor": 0,
  "metadata": {
    "colab": {
      "name": "Hallo.ipynb",
      "provenance": [],
      "collapsed_sections": [],
      "authorship_tag": "ABX9TyO2C8szJbL6PCHbfuccl25+",
      "include_colab_link": true
    },
    "kernelspec": {
      "name": "python3",
      "display_name": "Python 3"
    },
    "accelerator": "GPU"
  },
  "cells": [
    {
      "cell_type": "markdown",
      "metadata": {
        "id": "view-in-github",
        "colab_type": "text"
      },
      "source": [
        "<a href=\"https://colab.research.google.com/github/toshNaik/English-German/blob/master/Hallo.ipynb\" target=\"_parent\"><img src=\"https://colab.research.google.com/assets/colab-badge.svg\" alt=\"Open In Colab\"/></a>"
      ]
    },
    {
      "cell_type": "code",
      "metadata": {
        "id": "-tLGvMp6B6S2",
        "colab_type": "code",
        "colab": {}
      },
      "source": [
        "import pandas as pd\n",
        "import numpy as np\n",
        "import re\n",
        "import tensorflow as tf\n",
        "from tensorflow.keras.preprocessing.text import Tokenizer\n",
        "from tensorflow.keras.preprocessing.sequence import pad_sequences\n",
        "from sklearn.model_selection import train_test_split\n",
        "from tensorflow.keras.layers import Dense, Dropout, Flatten, LSTM, Input, Embedding, TimeDistributed\n",
        "from tensorflow.keras.models import Model\n",
        "from tensorflow.keras.callbacks import ModelCheckpoint\n",
        "from tensorflow.keras import metrics"
      ],
      "execution_count": 1,
      "outputs": []
    },
    {
      "cell_type": "code",
      "metadata": {
        "id": "xdwZkgTiQj6V",
        "colab_type": "code",
        "colab": {}
      },
      "source": [
        "class Encoder(tf.keras.Model):\n",
        "  def __init__(self, vocab_size, embedding_dim, enc_units):\n",
        "    super(Encoder, self).__init__()\n",
        "    self.enc_units = enc_units\n",
        "    self.input_layer = Input(shape=(None, ))\n",
        "    self.embedding = Embedding(vocab_size, embedding_dim)\n",
        "    self.lstm = LSTM(self.enc_units, return_state = True)\n",
        "  \n",
        "  def call(self, X):\n",
        "    # X = self.input_layer(X)\n",
        "    X = self.embedding(X)\n",
        "    output, state_h, state_c = self.lstm(X)\n",
        "    states = [state_h, state_c]\n",
        "    return output, states"
      ],
      "execution_count": 2,
      "outputs": []
    },
    {
      "cell_type": "code",
      "metadata": {
        "id": "D-63JysWaZwo",
        "colab_type": "code",
        "colab": {}
      },
      "source": [
        "class Decoder(tf.keras.Model):\n",
        "  def __init__(self, vocab_size, embedding_dim, dec_units):\n",
        "    super(Decoder, self).__init__()\n",
        "    self.dec_units = dec_units\n",
        "    self.input_layer = Input(shape=(None, ))\n",
        "    self.embedding = Embedding(vocab_size, embedding_dim)\n",
        "    self.lstm = LSTM(self.dec_units, return_sequences=True, return_state = True)\n",
        "    self.fc = TimeDistributed(Dense(vocab_size, activation='softmax'))\n",
        "\n",
        "  def call(self, X, enc_state):\n",
        "    # X = self.input_layer(X)\n",
        "    X = self.embedding(X)\n",
        "    output, state_h, state_c = self.lstm(X, initial_state = enc_state)\n",
        "    output = self.fc(output)\n",
        "    states = [state_h, state_c]\n",
        "    return output, states"
      ],
      "execution_count": 3,
      "outputs": []
    },
    {
      "cell_type": "code",
      "metadata": {
        "id": "3ugARGFqavPR",
        "colab_type": "code",
        "colab": {}
      },
      "source": [
        "class Seq2seq(tf.keras.Model):\n",
        "  def __init__(self, encoder, decoder):\n",
        "    super(Seq2seq, self).__init__()\n",
        "    \n",
        "    assert encoder.enc_units == decoder.dec_units, \"encoder units and decoder units must be same\"\n",
        "    \n",
        "    self.encoder = encoder\n",
        "    self.decoder = decoder\n",
        "\n",
        "  def call(self, X, training=False):\n",
        "    X_source = X[0]\n",
        "    X_target = X[1]\n",
        "    _, encoder_states = self.encoder(X_source)\n",
        "    decoder_output, _ = self.decoder(X_target, encoder_states)\n",
        "    return decoder_output\n",
        "    \n",
        "  \n",
        "  def predict(self, X, tokenizer):\n",
        "    _, init_states = self.encoder(X)\n",
        "    decoder_init = tokenizer.word_index['bos'] # token of <BOS> will be first input\n",
        "    decoder_init = np.array([[decoder_init]]) # Input has to be 2d array\n",
        "\n",
        "    stop = False\n",
        "    deu_sentence = ''\n",
        "    \n",
        "    while not stop:\n",
        "      output, next_states = self.decoder(decoder_init, init_states)\n",
        "      new_id = np.argmax(output[0, -1, :])\n",
        "      new_word = tokenizer.index_word[new_id]\n",
        "      \n",
        "      if (new_word == 'eos' or len(deu_sentence.split()) == 77):\n",
        "        stop = True\n",
        "      else:\n",
        "        deu_sentence += new_word + ' '\n",
        "\n",
        "      dec_word = np.array([[new_id]])\n",
        "      init_states = next_states\n",
        "    return deu_sentence"
      ],
      "execution_count": 4,
      "outputs": []
    },
    {
      "cell_type": "code",
      "metadata": {
        "id": "DXZFRyIhnAVV",
        "colab_type": "code",
        "colab": {
          "base_uri": "https://localhost:8080/",
          "height": 131
        },
        "outputId": "60479a24-0e4a-428d-8260-8ccc85f35ecf"
      },
      "source": [
        "from google.colab import drive\n",
        "drive.mount('/content/drive')"
      ],
      "execution_count": 5,
      "outputs": [
        {
          "output_type": "stream",
          "text": [
            "Go to this URL in a browser: https://accounts.google.com/o/oauth2/auth?client_id=947318989803-6bn6qk8qdgf4n4g3pfee6491hc0brc4i.apps.googleusercontent.com&redirect_uri=urn%3aietf%3awg%3aoauth%3a2.0%3aoob&response_type=code&scope=email%20https%3a%2f%2fwww.googleapis.com%2fauth%2fdocs.test%20https%3a%2f%2fwww.googleapis.com%2fauth%2fdrive%20https%3a%2f%2fwww.googleapis.com%2fauth%2fdrive.photos.readonly%20https%3a%2f%2fwww.googleapis.com%2fauth%2fpeopleapi.readonly\n",
            "\n",
            "Enter your authorization code:\n",
            "··········\n",
            "Mounted at /content/drive\n"
          ],
          "name": "stdout"
        }
      ]
    },
    {
      "cell_type": "code",
      "metadata": {
        "id": "doKZCAG9y7JE",
        "colab_type": "code",
        "colab": {
          "base_uri": "https://localhost:8080/",
          "height": 73
        },
        "outputId": "99e15bfb-0d65-4cf8-e48c-35e5169a92a9"
      },
      "source": [
        "!unzip drive/My\\ Drive/english-german/deu-eng.zip"
      ],
      "execution_count": 6,
      "outputs": [
        {
          "output_type": "stream",
          "text": [
            "Archive:  drive/My Drive/english-german/deu-eng.zip\n",
            "  inflating: deu.txt                 \n",
            "  inflating: _about.txt              \n"
          ],
          "name": "stdout"
        }
      ]
    },
    {
      "cell_type": "code",
      "metadata": {
        "id": "cqx-67COzEIK",
        "colab_type": "code",
        "colab": {
          "base_uri": "https://localhost:8080/",
          "height": 223
        },
        "outputId": "daa2cc41-55e3-47ee-b7a8-b56bcf2788bd"
      },
      "source": [
        "file1 = open('deu.txt', 'r')\n",
        "dataset = []\n",
        "for line in file1.readlines():\n",
        "  dataset.append(line)\n",
        "file1.close()\n",
        "\n",
        "eng = []\n",
        "deu = []\n",
        "for line in dataset:\n",
        "  english, deutsche, _ = re.split('\\t', line)\n",
        "  english = re.sub(r'[^\\w\\s]', '', english)   #remove punctuation\n",
        "  deutsche = re.sub(r'[^\\w\\s]', '', deutsche)\n",
        "  english = re.sub(r'\\d', '', english)        #remove digits\n",
        "  deutsche = re.sub(r'\\d', '', deutsche)\n",
        "  eng.append(english.lower())\n",
        "  deu.append(deutsche.lower()+' <EOS>')\n",
        "\n",
        "eng_data = pd.Series(eng)\n",
        "deu_data = pd.Series(deu)\n",
        "deu_input_data = deu_data.copy().apply(lambda x: '<BOS>' + x)\n",
        "\n",
        "def tokenize(data):\n",
        "  tokenizer = Tokenizer()\n",
        "  tokenizer.fit_on_texts(data)\n",
        "  return tokenizer\n",
        "\n",
        "english_tokenizer = tokenize(eng_data.values)\n",
        "english_vocab_size = len(english_tokenizer.word_index) + 1\n",
        "print(f'English vocab size {english_vocab_size}')\n",
        "\n",
        "german_tokenizer = tokenize(deu_input_data.values)\n",
        "german_vocab_size = len(german_tokenizer.word_index) + 1\n",
        "print(f'German vocab size {german_vocab_size}')\n",
        "\n",
        "eng_tokens = english_tokenizer.texts_to_sequences(eng_data.values)\n",
        "deu_tokens_output = german_tokenizer.texts_to_sequences(deu_data.values)\n",
        "deu_tokens_input = german_tokenizer.texts_to_sequences(deu_input_data.values)\n",
        "english_padded = pad_sequences(eng_tokens, padding='post')\n",
        "print(f'English padded: {english_padded.shape}')\n",
        "german_padded_input = pad_sequences(deu_tokens_input, padding='post')\n",
        "print(f'German input padded: {german_padded_input.shape}')\n",
        "german_padded_output = pad_sequences(deu_tokens_output, padding='post', maxlen = german_padded_input.shape[1])\n",
        "print(f'German output padded: {german_padded_output.shape}')\n",
        "\n",
        "german_padded_output = german_padded_output.reshape(german_padded_output.shape[0], german_padded_output.shape[1], 1)\n",
        "X_train, X_test, y_train, y_test = train_test_split(np.concatenate((english_padded, german_padded_input), axis =1), german_padded_output, test_size = 7000, shuffle=True, random_state=57)\n",
        "\n",
        "english_inputs = X_train[:, :101]\n",
        "print(english_inputs.shape)\n",
        "german_inputs = X_train[:, 101:]\n",
        "print(german_inputs.shape)\n",
        "print(y_train.shape)\n",
        "\n",
        "english_inputs_val = X_test[:, :101]\n",
        "print(english_inputs_val.shape)\n",
        "german_inputs_val = X_test[:, 101:]\n",
        "print(german_inputs_val.shape)\n",
        "print(y_test.shape)"
      ],
      "execution_count": 7,
      "outputs": [
        {
          "output_type": "stream",
          "text": [
            "English vocab size 16187\n",
            "German vocab size 34990\n",
            "English padded: (217032, 101)\n",
            "German input padded: (217032, 77)\n",
            "German output padded: (217032, 77)\n",
            "(210032, 101)\n",
            "(210032, 77)\n",
            "(210032, 77, 1)\n",
            "(7000, 101)\n",
            "(7000, 77)\n",
            "(7000, 77, 1)\n"
          ],
          "name": "stdout"
        }
      ]
    },
    {
      "cell_type": "code",
      "metadata": {
        "id": "CXLuZRC4z2jP",
        "colab_type": "code",
        "colab": {}
      },
      "source": [
        "encoder = Encoder(english_vocab_size, 100, 128)\n",
        "decoder = Decoder(german_vocab_size, 100, 128)\n",
        "model = Seq2seq(encoder, decoder)\n",
        "x1 = np.zeros((1, 101))\n",
        "x2 = np.zeros((1, 77))\n",
        "y = np.zeros((1, 77, 1))\n",
        "model.compile(optimizer='adam', loss='sparse_categorical_crossentropy', metrics=[metrics.sparse_categorical_accuracy])\n",
        "model.train_on_batch([x1, x2], y)\n",
        "model.load_weights('/content/drive/My Drive/english-german/0.125.hdf5')"
      ],
      "execution_count": 9,
      "outputs": []
    },
    {
      "cell_type": "code",
      "metadata": {
        "id": "h6WRVW7Z0CEI",
        "colab_type": "code",
        "colab": {}
      },
      "source": [
        "model.compile(optimizer='adam', loss='sparse_categorical_crossentropy', metrics=[metrics.sparse_categorical_accuracy])"
      ],
      "execution_count": 92,
      "outputs": []
    },
    {
      "cell_type": "code",
      "metadata": {
        "id": "zuqinMIM1Qzt",
        "colab_type": "code",
        "colab": {
          "base_uri": "https://localhost:8080/",
          "height": 54
        },
        "outputId": "e7c50b97-e09c-4ab2-da69-5d5d57bf1f26"
      },
      "source": [
        "model.fit(x = [english_inputs, german_inputs], y = y_train,\n",
        "          batch_size=128, epochs=1,\n",
        "          callbacks = [ModelCheckpoint(path, monitor='loss', mode='min', save_best_only=True)])"
      ],
      "execution_count": 11,
      "outputs": [
        {
          "output_type": "stream",
          "text": [
            "1641/1641 [==============================] - 1110s 677ms/step - loss: 0.1230 - sparse_categorical_accuracy: 0.9728\n"
          ],
          "name": "stdout"
        },
        {
          "output_type": "execute_result",
          "data": {
            "text/plain": [
              "<tensorflow.python.keras.callbacks.History at 0x7f7b6a7c3470>"
            ]
          },
          "metadata": {
            "tags": []
          },
          "execution_count": 11
        }
      ]
    },
    {
      "cell_type": "code",
      "metadata": {
        "id": "RRYv7vCp3lWV",
        "colab_type": "code",
        "colab": {
          "base_uri": "https://localhost:8080/",
          "height": 36
        },
        "outputId": "67c1af0a-35dd-47ad-bc54-153d69c5f47e"
      },
      "source": [
        "sentence = 'How are you'.lower()\n",
        "eng_pred = pad_sequences(english_tokenizer.texts_to_sequences([sentence]), maxlen=101, padding='post')\n",
        "predict(eng_pred)"
      ],
      "execution_count": 24,
      "outputs": [
        {
          "output_type": "execute_result",
          "data": {
            "application/vnd.google.colaboratory.intrinsic": {
              "type": "string"
            },
            "text/plain": [
              "'ich sie du du du du du '"
            ]
          },
          "metadata": {
            "tags": []
          },
          "execution_count": 24
        }
      ]
    },
    {
      "cell_type": "code",
      "metadata": {
        "id": "o7KcJfKy_yCm",
        "colab_type": "code",
        "colab": {}
      },
      "source": [
        "def predict(X):\n",
        "  _, init_states = encoder(X)\n",
        "  decoder_init = german_tokenizer.word_index['bos'] # token of <BOS> will be first input\n",
        "  decoder_init = np.array([[decoder_init]]) # Input has to be 2d array\n",
        "\n",
        "  stop = False\n",
        "  deu_sentence = ''\n",
        "  \n",
        "  while not stop:\n",
        "    output, next_states = decoder(decoder_init, init_states)\n",
        "    new_id = np.argmax(output[0, -1, :])\n",
        "    new_word = german_tokenizer.index_word[new_id]\n",
        "    \n",
        "    if (new_word == 'eos' or len(deu_sentence.split()) == 77):\n",
        "      stop = True\n",
        "    else:\n",
        "      deu_sentence += new_word + ' '\n",
        "\n",
        "    dec_word = np.array([[new_id]])\n",
        "    init_states = next_states\n",
        "  return deu_sentence"
      ],
      "execution_count": 21,
      "outputs": []
    },
    {
      "cell_type": "code",
      "metadata": {
        "id": "LiMQlL39VkYv",
        "colab_type": "code",
        "colab": {}
      },
      "source": [
        "path = '/content/drive/My Drive/english-german/{loss:.3f}.hdf5'"
      ],
      "execution_count": 10,
      "outputs": []
    },
    {
      "cell_type": "code",
      "metadata": {
        "id": "Fvjuxr3-VnRj",
        "colab_type": "code",
        "colab": {
          "base_uri": "https://localhost:8080/",
          "height": 54
        },
        "outputId": "f0753082-02f9-4332-e68d-5a1b37ccfb58"
      },
      "source": [
        "model.fit(x = [english_inputs, german_inputs], y = y_train,\n",
        "          batch_size=128, epochs=1,\n",
        "          callbacks = [ModelCheckpoint(path, monitor='loss', mode='min', save_best_only=True)])"
      ],
      "execution_count": 12,
      "outputs": [
        {
          "output_type": "stream",
          "text": [
            "1641/1641 [==============================] - 1111s 677ms/step - loss: 0.1186 - sparse_categorical_accuracy: 0.9737\n"
          ],
          "name": "stdout"
        },
        {
          "output_type": "execute_result",
          "data": {
            "text/plain": [
              "<tensorflow.python.keras.callbacks.History at 0x7f7b6a3a1e48>"
            ]
          },
          "metadata": {
            "tags": []
          },
          "execution_count": 12
        }
      ]
    },
    {
      "cell_type": "code",
      "metadata": {
        "colab_type": "code",
        "id": "ZKdWJ1ERWiOQ",
        "colab": {
          "base_uri": "https://localhost:8080/",
          "height": 54
        },
        "outputId": "4868013b-9d5d-47ed-b863-f6b6bacff597"
      },
      "source": [
        "model.fit(x = [english_inputs, german_inputs], y = y_train,\n",
        "          batch_size=128, epochs=1,\n",
        "          callbacks = [ModelCheckpoint(path, monitor='loss', mode='min', save_best_only=True)])"
      ],
      "execution_count": 13,
      "outputs": [
        {
          "output_type": "stream",
          "text": [
            "1641/1641 [==============================] - 1110s 677ms/step - loss: 0.1152 - sparse_categorical_accuracy: 0.9743\n"
          ],
          "name": "stdout"
        },
        {
          "output_type": "execute_result",
          "data": {
            "text/plain": [
              "<tensorflow.python.keras.callbacks.History at 0x7f7b6a3479b0>"
            ]
          },
          "metadata": {
            "tags": []
          },
          "execution_count": 13
        }
      ]
    },
    {
      "cell_type": "code",
      "metadata": {
        "colab_type": "code",
        "id": "2S5N5gyBWidh",
        "colab": {
          "base_uri": "https://localhost:8080/",
          "height": 54
        },
        "outputId": "fd6848b4-2e75-4d47-840f-df45776931fe"
      },
      "source": [
        "model.fit(x = [english_inputs, german_inputs], y = y_train,\n",
        "          batch_size=128, epochs=1,\n",
        "          callbacks = [ModelCheckpoint(path, monitor='loss', mode='min', save_best_only=True)])"
      ],
      "execution_count": 105,
      "outputs": [
        {
          "output_type": "stream",
          "text": [
            "1641/1641 [==============================] - 1130s 689ms/step - loss: 0.3962 - sparse_categorical_accuracy: 0.9339\n"
          ],
          "name": "stdout"
        },
        {
          "output_type": "execute_result",
          "data": {
            "text/plain": [
              "<tensorflow.python.keras.callbacks.History at 0x7f6a78fe8e48>"
            ]
          },
          "metadata": {
            "tags": []
          },
          "execution_count": 105
        }
      ]
    },
    {
      "cell_type": "code",
      "metadata": {
        "colab_type": "code",
        "id": "Lfd7GEkVWjMW",
        "colab": {
          "base_uri": "https://localhost:8080/",
          "height": 54
        },
        "outputId": "9796751d-cf7f-455e-93f4-cdf3393ae73a"
      },
      "source": [
        "model.fit(x = [english_inputs, german_inputs], y = y_train,\n",
        "          batch_size=128, epochs=1,\n",
        "          callbacks = [ModelCheckpoint(path, monitor='loss', mode='min', save_best_only=True)])"
      ],
      "execution_count": 106,
      "outputs": [
        {
          "output_type": "stream",
          "text": [
            "1641/1641 [==============================] - 1130s 689ms/step - loss: 0.3588 - sparse_categorical_accuracy: 0.9386\n"
          ],
          "name": "stdout"
        },
        {
          "output_type": "execute_result",
          "data": {
            "text/plain": [
              "<tensorflow.python.keras.callbacks.History at 0x7f6a79006860>"
            ]
          },
          "metadata": {
            "tags": []
          },
          "execution_count": 106
        }
      ]
    },
    {
      "cell_type": "code",
      "metadata": {
        "colab_type": "code",
        "id": "KTPblmojWjS8",
        "colab": {
          "base_uri": "https://localhost:8080/",
          "height": 54
        },
        "outputId": "da14ddbe-e790-44e2-a323-3b7ad91412d2"
      },
      "source": [
        "model.fit(x = [english_inputs, german_inputs], y = y_train,\n",
        "          batch_size=128, epochs=1,\n",
        "          callbacks = [ModelCheckpoint(path, monitor='loss', mode='min', save_best_only=True)])"
      ],
      "execution_count": 107,
      "outputs": [
        {
          "output_type": "stream",
          "text": [
            "1641/1641 [==============================] - 1130s 688ms/step - loss: 0.3272 - sparse_categorical_accuracy: 0.9428\n"
          ],
          "name": "stdout"
        },
        {
          "output_type": "execute_result",
          "data": {
            "text/plain": [
              "<tensorflow.python.keras.callbacks.History at 0x7f6a78fab080>"
            ]
          },
          "metadata": {
            "tags": []
          },
          "execution_count": 107
        }
      ]
    },
    {
      "cell_type": "code",
      "metadata": {
        "colab_type": "code",
        "id": "Qu9A-YEPWjZp",
        "colab": {
          "base_uri": "https://localhost:8080/",
          "height": 54
        },
        "outputId": "17c5708b-f574-43ab-b124-a573f284fb2b"
      },
      "source": [
        "model.fit(x = [english_inputs, german_inputs], y = y_train,\n",
        "          batch_size=128, epochs=1,\n",
        "          callbacks = [ModelCheckpoint(path, monitor='loss', mode='min', save_best_only=True)])"
      ],
      "execution_count": 108,
      "outputs": [
        {
          "output_type": "stream",
          "text": [
            "1641/1641 [==============================] - 1130s 688ms/step - loss: 0.3017 - sparse_categorical_accuracy: 0.9461\n"
          ],
          "name": "stdout"
        },
        {
          "output_type": "execute_result",
          "data": {
            "text/plain": [
              "<tensorflow.python.keras.callbacks.History at 0x7f6a79028128>"
            ]
          },
          "metadata": {
            "tags": []
          },
          "execution_count": 108
        }
      ]
    },
    {
      "cell_type": "code",
      "metadata": {
        "colab_type": "code",
        "id": "KrBtYkRfWjgE",
        "colab": {
          "base_uri": "https://localhost:8080/",
          "height": 54
        },
        "outputId": "2fd6d73a-4127-4cb4-efa6-95e781b9216c"
      },
      "source": [
        "model.fit(x = [english_inputs, german_inputs], y = y_train,\n",
        "          batch_size=128, epochs=1,\n",
        "          callbacks = [ModelCheckpoint(path, monitor='loss', mode='min', save_best_only=True)])"
      ],
      "execution_count": 109,
      "outputs": [
        {
          "output_type": "stream",
          "text": [
            "1641/1641 [==============================] - 1130s 689ms/step - loss: 0.2816 - sparse_categorical_accuracy: 0.9486\n"
          ],
          "name": "stdout"
        },
        {
          "output_type": "execute_result",
          "data": {
            "text/plain": [
              "<tensorflow.python.keras.callbacks.History at 0x7f6a78fab588>"
            ]
          },
          "metadata": {
            "tags": []
          },
          "execution_count": 109
        }
      ]
    },
    {
      "cell_type": "code",
      "metadata": {
        "colab_type": "code",
        "id": "Zl_Li5L1WjmY",
        "colab": {
          "base_uri": "https://localhost:8080/",
          "height": 54
        },
        "outputId": "5745d5a9-577c-442d-ed26-d32676092483"
      },
      "source": [
        "model.fit(x = [english_inputs, german_inputs], y = y_train,\n",
        "          batch_size=128, epochs=1,\n",
        "          callbacks = [ModelCheckpoint(path, monitor='loss', mode='min', save_best_only=True)])"
      ],
      "execution_count": 110,
      "outputs": [
        {
          "output_type": "stream",
          "text": [
            "1641/1641 [==============================] - 1131s 689ms/step - loss: 0.2640 - sparse_categorical_accuracy: 0.9507\n"
          ],
          "name": "stdout"
        },
        {
          "output_type": "execute_result",
          "data": {
            "text/plain": [
              "<tensorflow.python.keras.callbacks.History at 0x7f6a7904f5c0>"
            ]
          },
          "metadata": {
            "tags": []
          },
          "execution_count": 110
        }
      ]
    },
    {
      "cell_type": "code",
      "metadata": {
        "colab_type": "code",
        "id": "NVqxFb3eWjr-",
        "colab": {
          "base_uri": "https://localhost:8080/",
          "height": 54
        },
        "outputId": "5d169228-82ef-437c-9eed-a134c5c3f373"
      },
      "source": [
        "model.fit(x = [english_inputs, german_inputs], y = y_train,\n",
        "          batch_size=128, epochs=1,\n",
        "          callbacks = [ModelCheckpoint(path, monitor='loss', mode='min', save_best_only=True)])"
      ],
      "execution_count": 111,
      "outputs": [
        {
          "output_type": "stream",
          "text": [
            "1641/1641 [==============================] - 1131s 689ms/step - loss: 0.2484 - sparse_categorical_accuracy: 0.9527\n"
          ],
          "name": "stdout"
        },
        {
          "output_type": "execute_result",
          "data": {
            "text/plain": [
              "<tensorflow.python.keras.callbacks.History at 0x7f6a7d922d68>"
            ]
          },
          "metadata": {
            "tags": []
          },
          "execution_count": 111
        }
      ]
    },
    {
      "cell_type": "code",
      "metadata": {
        "colab_type": "code",
        "id": "bYs9Fxj5WjyA",
        "colab": {
          "base_uri": "https://localhost:8080/",
          "height": 54
        },
        "outputId": "1e730311-832e-4540-acac-f4c24affb697"
      },
      "source": [
        "model.fit(x = [english_inputs, german_inputs], y = y_train,\n",
        "          batch_size=128, epochs=1,\n",
        "          callbacks = [ModelCheckpoint(path, monitor='loss', mode='min', save_best_only=True)])"
      ],
      "execution_count": 112,
      "outputs": [
        {
          "output_type": "stream",
          "text": [
            "1641/1641 [==============================] - 1130s 689ms/step - loss: 0.2346 - sparse_categorical_accuracy: 0.9545\n"
          ],
          "name": "stdout"
        },
        {
          "output_type": "execute_result",
          "data": {
            "text/plain": [
              "<tensorflow.python.keras.callbacks.History at 0x7f6a78ffbe10>"
            ]
          },
          "metadata": {
            "tags": []
          },
          "execution_count": 112
        }
      ]
    },
    {
      "cell_type": "code",
      "metadata": {
        "colab_type": "code",
        "id": "lJYtcPsMWj1_",
        "colab": {
          "base_uri": "https://localhost:8080/",
          "height": 54
        },
        "outputId": "c45c7cec-e6fa-4abd-d85b-71c6c266b0ad"
      },
      "source": [
        "model.fit(x = [english_inputs, german_inputs], y = y_train,\n",
        "          batch_size=128, epochs=1,\n",
        "          callbacks = [ModelCheckpoint(path, monitor='loss', mode='min', save_best_only=True)])"
      ],
      "execution_count": 113,
      "outputs": [
        {
          "output_type": "stream",
          "text": [
            "1641/1641 [==============================] - 1129s 688ms/step - loss: 0.2218 - sparse_categorical_accuracy: 0.9563\n"
          ],
          "name": "stdout"
        },
        {
          "output_type": "execute_result",
          "data": {
            "text/plain": [
              "<tensorflow.python.keras.callbacks.History at 0x7f6a79039780>"
            ]
          },
          "metadata": {
            "tags": []
          },
          "execution_count": 113
        }
      ]
    },
    {
      "cell_type": "code",
      "metadata": {
        "colab_type": "code",
        "id": "AStQ5t94Wj7N",
        "colab": {
          "base_uri": "https://localhost:8080/",
          "height": 54
        },
        "outputId": "38561917-d645-4fb7-8d91-19b5f5c160aa"
      },
      "source": [
        "model.fit(x = [english_inputs, german_inputs], y = y_train,\n",
        "          batch_size=128, epochs=1,\n",
        "          callbacks = [ModelCheckpoint(path, monitor='loss', mode='min', save_best_only=True)])"
      ],
      "execution_count": 114,
      "outputs": [
        {
          "output_type": "stream",
          "text": [
            "1641/1641 [==============================] - 1129s 688ms/step - loss: 0.2099 - sparse_categorical_accuracy: 0.9580\n"
          ],
          "name": "stdout"
        },
        {
          "output_type": "execute_result",
          "data": {
            "text/plain": [
              "<tensorflow.python.keras.callbacks.History at 0x7f6a78fd70f0>"
            ]
          },
          "metadata": {
            "tags": []
          },
          "execution_count": 114
        }
      ]
    },
    {
      "cell_type": "code",
      "metadata": {
        "colab_type": "code",
        "id": "zaEndTAAWkBQ",
        "colab": {
          "base_uri": "https://localhost:8080/",
          "height": 54
        },
        "outputId": "80a27ea2-dce1-404f-93c2-87fdb94caa60"
      },
      "source": [
        "model.fit(x = [english_inputs, german_inputs], y = y_train,\n",
        "          batch_size=128, epochs=1,\n",
        "          callbacks = [ModelCheckpoint(path, monitor='loss', mode='min', save_best_only=True)])"
      ],
      "execution_count": 115,
      "outputs": [
        {
          "output_type": "stream",
          "text": [
            "1641/1641 [==============================] - 1129s 688ms/step - loss: 0.1990 - sparse_categorical_accuracy: 0.9597\n"
          ],
          "name": "stdout"
        },
        {
          "output_type": "execute_result",
          "data": {
            "text/plain": [
              "<tensorflow.python.keras.callbacks.History at 0x7f6a78f79940>"
            ]
          },
          "metadata": {
            "tags": []
          },
          "execution_count": 115
        }
      ]
    },
    {
      "cell_type": "code",
      "metadata": {
        "colab_type": "code",
        "id": "CHOLURfQWkF5",
        "colab": {
          "base_uri": "https://localhost:8080/",
          "height": 54
        },
        "outputId": "f1dd8d50-7566-48cf-ade5-60420a28600c"
      },
      "source": [
        "model.fit(x = [english_inputs, german_inputs], y = y_train,\n",
        "          batch_size=128, epochs=1,\n",
        "          callbacks = [ModelCheckpoint(path, monitor='loss', mode='min', save_best_only=True)])"
      ],
      "execution_count": 116,
      "outputs": [
        {
          "output_type": "stream",
          "text": [
            "1641/1641 [==============================] - 1126s 686ms/step - loss: 0.1889 - sparse_categorical_accuracy: 0.9612\n"
          ],
          "name": "stdout"
        },
        {
          "output_type": "execute_result",
          "data": {
            "text/plain": [
              "<tensorflow.python.keras.callbacks.History at 0x7f6a79062198>"
            ]
          },
          "metadata": {
            "tags": []
          },
          "execution_count": 116
        }
      ]
    },
    {
      "cell_type": "code",
      "metadata": {
        "colab_type": "code",
        "id": "MOErHNqsWkLc",
        "colab": {
          "base_uri": "https://localhost:8080/",
          "height": 54
        },
        "outputId": "05954911-4baf-4d2b-cdea-94c38e337802"
      },
      "source": [
        "model.fit(x = [english_inputs, german_inputs], y = y_train,\n",
        "          batch_size=128, epochs=1,\n",
        "          callbacks = [ModelCheckpoint(path, monitor='loss', mode='min', save_best_only=True)])"
      ],
      "execution_count": 117,
      "outputs": [
        {
          "output_type": "stream",
          "text": [
            "1641/1641 [==============================] - 1119s 682ms/step - loss: 0.1797 - sparse_categorical_accuracy: 0.9628\n"
          ],
          "name": "stdout"
        },
        {
          "output_type": "execute_result",
          "data": {
            "text/plain": [
              "<tensorflow.python.keras.callbacks.History at 0x7f6a7900f128>"
            ]
          },
          "metadata": {
            "tags": []
          },
          "execution_count": 117
        }
      ]
    },
    {
      "cell_type": "code",
      "metadata": {
        "colab_type": "code",
        "id": "ZPeesfpeWkRC",
        "colab": {
          "base_uri": "https://localhost:8080/",
          "height": 54
        },
        "outputId": "b180349f-b273-430f-bd4e-29bc3f5e338a"
      },
      "source": [
        "model.fit(x = [english_inputs, german_inputs], y = y_train,\n",
        "          batch_size=128, epochs=1,\n",
        "          callbacks = [ModelCheckpoint(path, monitor='loss', mode='min', save_best_only=True)])"
      ],
      "execution_count": 118,
      "outputs": [
        {
          "output_type": "stream",
          "text": [
            "1641/1641 [==============================] - 1122s 683ms/step - loss: 0.1715 - sparse_categorical_accuracy: 0.9641\n"
          ],
          "name": "stdout"
        },
        {
          "output_type": "execute_result",
          "data": {
            "text/plain": [
              "<tensorflow.python.keras.callbacks.History at 0x7f6a78fa5240>"
            ]
          },
          "metadata": {
            "tags": []
          },
          "execution_count": 118
        }
      ]
    },
    {
      "cell_type": "code",
      "metadata": {
        "colab_type": "code",
        "id": "FqKCxhHkWka6",
        "colab": {
          "base_uri": "https://localhost:8080/",
          "height": 54
        },
        "outputId": "964bac1b-f9e6-4518-ba70-f949288e29be"
      },
      "source": [
        "model.fit(x = [english_inputs, german_inputs], y = y_train,\n",
        "          batch_size=128, epochs=1,\n",
        "          callbacks = [ModelCheckpoint(path, monitor='loss', mode='min', save_best_only=True)])"
      ],
      "execution_count": 119,
      "outputs": [
        {
          "output_type": "stream",
          "text": [
            "1641/1641 [==============================] - 1122s 684ms/step - loss: 0.1638 - sparse_categorical_accuracy: 0.9654\n"
          ],
          "name": "stdout"
        },
        {
          "output_type": "execute_result",
          "data": {
            "text/plain": [
              "<tensorflow.python.keras.callbacks.History at 0x7f6a7904fa58>"
            ]
          },
          "metadata": {
            "tags": []
          },
          "execution_count": 119
        }
      ]
    },
    {
      "cell_type": "code",
      "metadata": {
        "colab_type": "code",
        "id": "TdLZ8PfcWkf2",
        "colab": {
          "base_uri": "https://localhost:8080/",
          "height": 54
        },
        "outputId": "377a30a9-4fac-433e-dc49-2c23328a4803"
      },
      "source": [
        "model.fit(x = [english_inputs, german_inputs], y = y_train,\n",
        "          batch_size=128, epochs=1,\n",
        "          callbacks = [ModelCheckpoint(path, monitor='loss', mode='min', save_best_only=True)])"
      ],
      "execution_count": 120,
      "outputs": [
        {
          "output_type": "stream",
          "text": [
            "1641/1641 [==============================] - 1119s 682ms/step - loss: 0.1570 - sparse_categorical_accuracy: 0.9666\n"
          ],
          "name": "stdout"
        },
        {
          "output_type": "execute_result",
          "data": {
            "text/plain": [
              "<tensorflow.python.keras.callbacks.History at 0x7f6a7c0b1e80>"
            ]
          },
          "metadata": {
            "tags": []
          },
          "execution_count": 120
        }
      ]
    },
    {
      "cell_type": "code",
      "metadata": {
        "colab_type": "code",
        "id": "HiyTZKdhWklc",
        "colab": {
          "base_uri": "https://localhost:8080/",
          "height": 54
        },
        "outputId": "ca883222-fb8d-4e63-e961-4bcdd222b93e"
      },
      "source": [
        "model.fit(x = [english_inputs, german_inputs], y = y_train,\n",
        "          batch_size=128, epochs=1,\n",
        "          callbacks = [ModelCheckpoint(path, monitor='loss', mode='min', save_best_only=True)])"
      ],
      "execution_count": 121,
      "outputs": [
        {
          "output_type": "stream",
          "text": [
            "1641/1641 [==============================] - 1113s 678ms/step - loss: 0.1506 - sparse_categorical_accuracy: 0.9677\n"
          ],
          "name": "stdout"
        },
        {
          "output_type": "execute_result",
          "data": {
            "text/plain": [
              "<tensorflow.python.keras.callbacks.History at 0x7f6a7a8a1748>"
            ]
          },
          "metadata": {
            "tags": []
          },
          "execution_count": 121
        }
      ]
    },
    {
      "cell_type": "code",
      "metadata": {
        "colab_type": "code",
        "id": "qa_VdpEtWkrj",
        "colab": {
          "base_uri": "https://localhost:8080/",
          "height": 54
        },
        "outputId": "933157a1-4d6c-4035-a42f-20e251b06b37"
      },
      "source": [
        "model.fit(x = [english_inputs, german_inputs], y = y_train,\n",
        "          batch_size=128, epochs=1,\n",
        "          callbacks = [ModelCheckpoint(path, monitor='loss', mode='min', save_best_only=True)])"
      ],
      "execution_count": 122,
      "outputs": [
        {
          "output_type": "stream",
          "text": [
            "1641/1641 [==============================] - 1107s 674ms/step - loss: 0.1447 - sparse_categorical_accuracy: 0.9688\n"
          ],
          "name": "stdout"
        },
        {
          "output_type": "execute_result",
          "data": {
            "text/plain": [
              "<tensorflow.python.keras.callbacks.History at 0x7f6a78f6d160>"
            ]
          },
          "metadata": {
            "tags": []
          },
          "execution_count": 122
        }
      ]
    },
    {
      "cell_type": "code",
      "metadata": {
        "colab_type": "code",
        "id": "V9qKrdDcWkxW",
        "colab": {
          "base_uri": "https://localhost:8080/",
          "height": 54
        },
        "outputId": "355192d8-aa70-4db7-cb5e-7d70ee2f3360"
      },
      "source": [
        "model.fit(x = [english_inputs, german_inputs], y = y_train,\n",
        "          batch_size=128, epochs=1,\n",
        "          callbacks = [ModelCheckpoint(path, monitor='loss', mode='min', save_best_only=True)])"
      ],
      "execution_count": 123,
      "outputs": [
        {
          "output_type": "stream",
          "text": [
            "1641/1641 [==============================] - 1108s 675ms/step - loss: 0.1393 - sparse_categorical_accuracy: 0.9698\n"
          ],
          "name": "stdout"
        },
        {
          "output_type": "execute_result",
          "data": {
            "text/plain": [
              "<tensorflow.python.keras.callbacks.History at 0x7f6a78f26b00>"
            ]
          },
          "metadata": {
            "tags": []
          },
          "execution_count": 123
        }
      ]
    },
    {
      "cell_type": "code",
      "metadata": {
        "colab_type": "code",
        "id": "57JVFcEVWk3z",
        "colab": {
          "base_uri": "https://localhost:8080/",
          "height": 54
        },
        "outputId": "c00c3d07-33cb-4e22-f8a2-29c66278ea2a"
      },
      "source": [
        "model.fit(x = [english_inputs, german_inputs], y = y_train,\n",
        "          batch_size=128, epochs=1,\n",
        "          callbacks = [ModelCheckpoint(path, monitor='loss', mode='min', save_best_only=True)])"
      ],
      "execution_count": 124,
      "outputs": [
        {
          "output_type": "stream",
          "text": [
            "1641/1641 [==============================] - 1108s 675ms/step - loss: 0.1344 - sparse_categorical_accuracy: 0.9707\n"
          ],
          "name": "stdout"
        },
        {
          "output_type": "execute_result",
          "data": {
            "text/plain": [
              "<tensorflow.python.keras.callbacks.History at 0x7f6a79003080>"
            ]
          },
          "metadata": {
            "tags": []
          },
          "execution_count": 124
        }
      ]
    },
    {
      "cell_type": "code",
      "metadata": {
        "colab_type": "code",
        "id": "mS1RbI2PWk9y",
        "colab": {
          "base_uri": "https://localhost:8080/",
          "height": 54
        },
        "outputId": "37981570-1416-4644-abd8-971fb54d4443"
      },
      "source": [
        "model.fit(x = [english_inputs, german_inputs], y = y_train,\n",
        "          batch_size=128, epochs=1,\n",
        "          callbacks = [ModelCheckpoint(path, monitor='loss', mode='min', save_best_only=True)])"
      ],
      "execution_count": 125,
      "outputs": [
        {
          "output_type": "stream",
          "text": [
            "1641/1641 [==============================] - 1106s 674ms/step - loss: 0.1298 - sparse_categorical_accuracy: 0.9715\n"
          ],
          "name": "stdout"
        },
        {
          "output_type": "execute_result",
          "data": {
            "text/plain": [
              "<tensorflow.python.keras.callbacks.History at 0x7f6a78f79630>"
            ]
          },
          "metadata": {
            "tags": []
          },
          "execution_count": 125
        }
      ]
    },
    {
      "cell_type": "code",
      "metadata": {
        "colab_type": "code",
        "id": "tGvl0CukWlEm",
        "colab": {
          "base_uri": "https://localhost:8080/",
          "height": 54
        },
        "outputId": "a0a97a43-b400-45e8-926b-2874bc4379e6"
      },
      "source": [
        "model.fit(x = [english_inputs, german_inputs], y = y_train,\n",
        "          batch_size=128, epochs=1,\n",
        "          callbacks = [ModelCheckpoint(path, monitor='loss', mode='min', save_best_only=True)])"
      ],
      "execution_count": 126,
      "outputs": [
        {
          "output_type": "stream",
          "text": [
            "1641/1641 [==============================] - 1107s 675ms/step - loss: 0.1255 - sparse_categorical_accuracy: 0.9723\n"
          ],
          "name": "stdout"
        },
        {
          "output_type": "execute_result",
          "data": {
            "text/plain": [
              "<tensorflow.python.keras.callbacks.History at 0x7f6a78f6dc88>"
            ]
          },
          "metadata": {
            "tags": []
          },
          "execution_count": 126
        }
      ]
    },
    {
      "cell_type": "code",
      "metadata": {
        "colab_type": "code",
        "id": "sRqcJl3LWlJO",
        "colab": {
          "base_uri": "https://localhost:8080/",
          "height": 36
        },
        "outputId": "a468a5b1-fecb-4758-b355-fd95d26303d0"
      },
      "source": [
        "model.fit(x = [english_inputs, german_inputs], y = y_train,\n",
        "          batch_size=128, epochs=1,\n",
        "          callbacks = [ModelCheckpoint(path, monitor='loss', mode='min', save_best_only=True)])"
      ],
      "execution_count": null,
      "outputs": [
        {
          "output_type": "stream",
          "text": [
            " 874/1641 [==============>...............] - ETA: 8:37 - loss: 0.1198 - sparse_categorical_accuracy: 0.9736"
          ],
          "name": "stdout"
        }
      ]
    },
    {
      "cell_type": "code",
      "metadata": {
        "colab_type": "code",
        "id": "YeJzMwNOWlOc",
        "colab": {}
      },
      "source": [
        "model.fit(x = [english_inputs, german_inputs], y = y_train,\n",
        "          batch_size=128, epochs=1,\n",
        "          callbacks = [ModelCheckpoint(path, monitor='loss', mode='min', save_best_only=True)])"
      ],
      "execution_count": null,
      "outputs": []
    },
    {
      "cell_type": "code",
      "metadata": {
        "colab_type": "code",
        "id": "jKkgzw8pWlTJ",
        "colab": {}
      },
      "source": [
        "model.fit(x = [english_inputs, german_inputs], y = y_train,\n",
        "          batch_size=128, epochs=1,\n",
        "          callbacks = [ModelCheckpoint(path, monitor='loss', mode='min', save_best_only=True)])"
      ],
      "execution_count": null,
      "outputs": []
    },
    {
      "cell_type": "code",
      "metadata": {
        "colab_type": "code",
        "id": "tUODd9icWlZF",
        "colab": {}
      },
      "source": [
        "model.fit(x = [english_inputs, german_inputs], y = y_train,\n",
        "          batch_size=128, epochs=1,\n",
        "          callbacks = [ModelCheckpoint(path, monitor='loss', mode='min', save_best_only=True)])"
      ],
      "execution_count": null,
      "outputs": []
    },
    {
      "cell_type": "code",
      "metadata": {
        "colab_type": "code",
        "id": "Ye-2c8bxWlem",
        "colab": {}
      },
      "source": [
        "model.fit(x = [english_inputs, german_inputs], y = y_train,\n",
        "          batch_size=128, epochs=1,\n",
        "          callbacks = [ModelCheckpoint(path, monitor='loss', mode='min', save_best_only=True)])"
      ],
      "execution_count": null,
      "outputs": []
    },
    {
      "cell_type": "code",
      "metadata": {
        "colab_type": "code",
        "id": "bKGXleBmWllL",
        "colab": {}
      },
      "source": [
        "model.fit(x = [english_inputs, german_inputs], y = y_train,\n",
        "          batch_size=128, epochs=1,\n",
        "          callbacks = [ModelCheckpoint(path, monitor='loss', mode='min', save_best_only=True)])"
      ],
      "execution_count": null,
      "outputs": []
    },
    {
      "cell_type": "code",
      "metadata": {
        "colab_type": "code",
        "id": "JZ6cInU-WkWf",
        "colab": {}
      },
      "source": [
        "model.fit(x = [english_inputs, german_inputs], y = y_train,\n",
        "          batch_size=128, epochs=1,\n",
        "          callbacks = [ModelCheckpoint(path, monitor='loss', mode='min', save_best_only=True)])"
      ],
      "execution_count": null,
      "outputs": []
    },
    {
      "cell_type": "code",
      "metadata": {
        "id": "SDeKVqMyWqGv",
        "colab_type": "code",
        "colab": {}
      },
      "source": [
        "model.save('/content/drive/My Drive/english-german/diff_model.hdf5')"
      ],
      "execution_count": null,
      "outputs": []
    },
    {
      "cell_type": "code",
      "metadata": {
        "id": "2hc9fbujCakn",
        "colab_type": "code",
        "colab": {}
      },
      "source": [
        "model.save('/content/drive/My Drive/english-german/diff_model.hdf5')"
      ],
      "execution_count": null,
      "outputs": []
    },
    {
      "cell_type": "code",
      "metadata": {
        "id": "biyrIEWdCheC",
        "colab_type": "code",
        "colab": {}
      },
      "source": [
        ""
      ],
      "execution_count": null,
      "outputs": []
    }
  ]
}